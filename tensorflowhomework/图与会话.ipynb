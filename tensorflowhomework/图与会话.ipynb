{
 "cells": [
  {
   "cell_type": "code",
   "execution_count": null,
   "metadata": {},
   "outputs": [],
   "source": [
    "import tensorflow as tf\n",
    "a = tf.add(1,6)\n",
    "sess = tf.Session()\n",
    "sess1 = tf.Session()\n",
    "res = sess.run(a)  \n",
    "res1 = sess1.run(a)\n",
    "print(res)\n",
    "print(res1)\n",
    "sess.close()\n",
    "sess1.close()\n",
    "\n",
    "a, b, c, d, e = tf.constant(5.0), tf.constant(10.0), tf.constant(49.0),tf.constant(50.0),tf.constant(1.0)\n",
    "add = tf.add(a,b)\n",
    "sub = tf.subtract(add, d)\n",
    "mul = tf.multiply(sub, c)\n",
    "div = tf.divide(b,a)\n",
    "mod = tf.mod(b,e)\n",
    "pw = tf.pow(mod,b)\n",
    "sqe = tf.square(a)\n",
    "sqt = tf.sqrt(c)\n",
    "for i in (add,sub,mul,div,mod,pw,sqe,sqt):\n",
    "    with tf.Session() as sess:\n",
    "        print(sess.run(i))"
   ]
  }
 ],
 "metadata": {
  "kernelspec": {
   "display_name": "Python 3",
   "language": "python",
   "name": "python3"
  },
  "language_info": {
   "codemirror_mode": {
    "name": "ipython",
    "version": 3
   },
   "file_extension": ".py",
   "mimetype": "text/x-python",
   "name": "python",
   "nbconvert_exporter": "python",
   "pygments_lexer": "ipython3",
   "version": "3.6.5"
  }
 },
 "nbformat": 4,
 "nbformat_minor": 2
}
