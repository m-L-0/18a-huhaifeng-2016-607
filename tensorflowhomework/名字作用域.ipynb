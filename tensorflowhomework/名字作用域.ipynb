{
 "cells": [
  {
   "cell_type": "code",
   "execution_count": null,
   "metadata": {},
   "outputs": [],
   "source": [
    "import tensorflow as tf\n",
    "import numpy as np\n",
    "with tf.Graph().as_default():\n",
    "    X = tf.placeholder(tf.float32)    #使用占位符表示输入数据和类别标记\n",
    "    y = tf.placeholder(tf.float32)\n",
    "    with tf.variable_scope('scope',reuse=None): #模型参数变量的创建\n",
    "        tf.get_variable('W',shape=[],dtype=tf.float32)\n",
    "        tf.get_variable('b',shape=[],dtype=tf.float32)\n",
    "    with tf.variable_scope('scope',reuse=True) #模型参数变量的使用，以及分类决策函数的构建\n",
    "        W=tf.get_variable('W')\n",
    "        b=tf.get_variable('b')\n",
    "        W=tf.assign(tf.zeros([tf.random_normal([1]), 1]))\n",
    "        b = tf.assign([0])\n",
    "        ldf=tf.add(tf.multiply(X,W),b)\n",
    "        fun = tf.nn.sigmoid(ldf)"
   ]
  }
 ],
 "metadata": {
  "kernelspec": {
   "display_name": "Python 3",
   "language": "python",
   "name": "python3"
  },
  "language_info": {
   "codemirror_mode": {
    "name": "ipython",
    "version": 3
   },
   "file_extension": ".py",
   "mimetype": "text/x-python",
   "name": "python",
   "nbconvert_exporter": "python",
   "pygments_lexer": "ipython3",
   "version": "3.6.5"
  }
 },
 "nbformat": 4,
 "nbformat_minor": 2
}
